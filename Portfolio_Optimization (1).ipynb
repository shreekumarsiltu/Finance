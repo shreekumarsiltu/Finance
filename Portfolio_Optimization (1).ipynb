{
  "nbformat": 4,
  "nbformat_minor": 0,
  "metadata": {
    "colab": {
      "name": "Portfolio_Optimization.ipynb",
      "provenance": [],
      "collapsed_sections": []
    },
    "kernelspec": {
      "name": "python3",
      "display_name": "Python 3"
    }
  },
  "cells": [
    {
      "cell_type": "code",
      "metadata": {
        "id": "pRYIUS1jUiAD",
        "colab_type": "code",
        "outputId": "b47f5a09-1563-4f1e-c3d2-ae434afa52f6",
        "colab": {
          "base_uri": "https://localhost:8080/",
          "height": 70
        }
      },
      "source": [
        "#Importing Libraries\n",
        "\n",
        "import numpy as np\n",
        "import cvxpy as cvx\n",
        "import pandas as pd\n",
        "from datetime import datetime\n",
        "import pandas_datareader.data as pdr"
      ],
      "execution_count": 1,
      "outputs": [
        {
          "output_type": "stream",
          "text": [
            "/usr/local/lib/python3.6/dist-packages/pandas_datareader/compat/__init__.py:7: FutureWarning: pandas.util.testing is deprecated. Use the functions in the public API at pandas.testing instead.\n",
            "  from pandas.util.testing import assert_frame_equal\n"
          ],
          "name": "stderr"
        }
      ]
    },
    {
      "cell_type": "markdown",
      "metadata": {
        "id": "1H_b-mJ-Z5zT",
        "colab_type": "text"
      },
      "source": [
        "## Optimization with cvxpy\n",
        "\n",
        "http://www.cvxpy.org/\n",
        "\n",
        "Practice using cvxpy to solve a simple optimization problem. Find the optimal weights on a m-asset portfolio given the covariance matrix of the returns of m-stocks . Create a function that takes in these values as arguments and returns the vector of optimal weights.\n"
      ]
    },
    {
      "cell_type": "markdown",
      "metadata": {
        "id": "iL5FmiDYap6n",
        "colab_type": "text"
      },
      "source": [
        "## Hints\n",
        "\n",
        "### x vector\n",
        "To create a vector of M variables $\\mathbf{x} = \\begin{bmatrix}\n",
        "x_1 &...& x_M\n",
        "\\end{bmatrix}\n",
        "$\n",
        "we can use `cvx.Variable(m)`\n",
        "\n",
        "### covariance matrix\n",
        "If we have $m$ stock series, the covariance matrix is an $m \\times m$ matrix containing the covariance between each pair of stocks.  We can use [numpy.cov](https://docs.scipy.org/doc/numpy/reference/generated/numpy.cov.html) to get the covariance.  We give it a 2D array in which each row is a stock series, and each column is an observation at the same period of time.\n",
        "\n",
        "The covariance matrix $\\mathbf{P} = \n",
        "\\begin{bmatrix}\n",
        "\\sigma^2_{1,1} & ... & \\sigma^2_{1,m} \\\\ \n",
        "... & ... & ...\\\\\n",
        "\\sigma_{m,1} & ... & \\sigma^2_{m,m}  \\\\\n",
        "\\end{bmatrix}$"
      ]
    },
    {
      "cell_type": "markdown",
      "metadata": {
        "id": "3vjuVMVDa0Wr",
        "colab_type": "text"
      },
      "source": [
        "### portfolio variance\n",
        "We can write the portfolio variance $\\sigma^2_p = \\mathbf{x^T} \\mathbf{P} \\mathbf{x}$\n",
        "\n",
        "Recall that the $\\mathbf{x^T} \\mathbf{P} \\mathbf{x}$ is called the quadratic form.\n",
        "We can use the cvxpy function `quad_form(x,P)` to get the quadratic form."
      ]
    },
    {
      "cell_type": "markdown",
      "metadata": {
        "id": "7I57Ktg8bCxY",
        "colab_type": "text"
      },
      "source": [
        "### optimization\n",
        "So now that we have our objective function and constraints, we can solve for the values of $\\mathbf{x}$.\n",
        "cvxpy has the constructor `Problem(objective, constraints)`, which returns a `Problem` object.\n",
        "\n",
        "The `Problem` object has a function solve(), which returns the minimum of the solution.  In this case, this is the minimum variance of the portfolio.\n",
        "\n",
        "It also updates the vector $\\mathbf{x}$.\n",
        "\n",
        "We can check out the values of vector of weights x that gave the minimum portfolio variance by using `x.value`"
      ]
    },
    {
      "cell_type": "code",
      "metadata": {
        "id": "nMxFv5u4ZAxf",
        "colab_type": "code",
        "colab": {}
      },
      "source": [
        "def optimize_portfolio(returns):\n",
        "    \"\"\"\n",
        "    Create a function that takes the return series of a set of stocks,The function \n",
        "    will minimize a combination of the portfolio variance.  \n",
        "    The optimization will be constrained to be long only, and the weights should sum to one.\n",
        "    \n",
        "    Parameters\n",
        "    ----------\n",
        "    returns : numpy.ndarray\n",
        "        2D array containing stock return series in each row.\n",
        "        \n",
        "    index_weights : numpy.ndarray\n",
        "        1D numpy array containing weights of the index.\n",
        "        \n",
        "\n",
        "        \n",
        "    Returns\n",
        "    -------\n",
        "    x : np.ndarray\n",
        "        A numpy ndarray containing the weights of the stocks in the optimized portfolio\n",
        "    \"\"\"\n",
        "    # TODO: Use cvxpy to determine the weights on the assets\n",
        "    # that minimizes the  portfolio variance \n",
        "    \n",
        "    # number of stocks m is number of rows of returns, and also number of index weights\n",
        "    \n",
        "    m = len(returns)\n",
        "    #covariance matrix of returns\n",
        "    cov = np.cov(returns)\n",
        "    \n",
        "    # x variables (to be found with optimization)\n",
        "    x = cvx.Variable(m)\n",
        "    \n",
        "    #portfolio variance, in quadratic form\n",
        "    portfolio_variance = cvx.quad_form(x,cov)    \n",
        "    \n",
        "    #objective function\n",
        "    objective = cvx.Minimize(portfolio_variance)\n",
        "    \n",
        "    #constraints\n",
        "    constraints = [x >= 0, sum(x) == 1]\n",
        "\n",
        "    #use cvxpy to solve the objective\n",
        "    prob = cvx.Problem(objective, constraints)\n",
        "    prob.solve()\n",
        "    x_values = x.value\n",
        "\n",
        "    return x_values"
      ],
      "execution_count": 0,
      "outputs": []
    },
    {
      "cell_type": "code",
      "metadata": {
        "id": "D7oPVKznZAM8",
        "colab_type": "code",
        "colab": {}
      },
      "source": [
        "#Stock_Data_Extraction\n",
        "\n",
        "tickers = [\"ASIANPAINT.NS\",\"ADANIPORTS.NS\",\"AXISBANK.NS\",\"BAJAJ-AUTO.NS\"]\n",
        "\n",
        "start= datetime(2018,1,1)\n",
        "end = datetime.today()\n",
        "\n",
        "#Creeating a dictionary to store data for all stocks.\n",
        "ohlc_daily = {}\n",
        "for i in range(len(tickers)):\n",
        "    ohlc_daily[tickers[i]] = pdr.get_data_yahoo(tickers[i],start = start , end = end)\n",
        "\n",
        "#Creating a dataframe to store daily_returns of all stocks\n",
        "returns = pd.DataFrame()\n",
        "for ticker in tickers:\n",
        "    returns[ticker] = (ohlc_daily[ticker]['Adj Close'].pct_change())\n",
        "returns = returns.dropna(axis=0)\n",
        "\n",
        "#Applying Optimization function to get min_variance_weights\n",
        "min_var_weights = optimize_portfolio(returns.T)\n",
        "# print(min_var_weights)\n"
      ],
      "execution_count": 0,
      "outputs": []
    },
    {
      "cell_type": "code",
      "metadata": {
        "id": "DZ-Z8Glal3b8",
        "colab_type": "code",
        "colab": {
          "base_uri": "https://localhost:8080/",
          "height": 84
        },
        "outputId": "c89b47f5-d1d2-4017-94d9-4a08035b0ef8"
      },
      "source": [
        "for i in range(len(min_var_weights)):\n",
        "  print(tickers[i],\"is =====\",min_var_weights[i]);"
      ],
      "execution_count": 18,
      "outputs": [
        {
          "output_type": "stream",
          "text": [
            "ASIANPAINT.NS is ===== 0.4688522709880375\n",
            "ADANIPORTS.NS is ===== 0.16140489653268553\n",
            "AXISBANK.NS is ===== -7.066324258965074e-20\n",
            "BAJAJ-AUTO.NS is ===== 0.3697428324792769\n"
          ],
          "name": "stdout"
        }
      ]
    },
    {
      "cell_type": "code",
      "metadata": {
        "id": "KKPIndk1C86s",
        "colab_type": "code",
        "colab": {}
      },
      "source": [
        ""
      ],
      "execution_count": 0,
      "outputs": []
    }
  ]
}